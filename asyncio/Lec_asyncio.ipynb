{
 "cells": [
  {
   "cell_type": "markdown",
   "metadata": {},
   "source": [
    "# Using Asyncio in Python \n",
    "### Understanding Python's Asynchronous Programming Features\n",
    "\n",
    "<img src=\"image-0.png\" alt=\"Asyncio in Python\" width=\"1000\"/>\n"
   ]
  },
  {
   "cell_type": "markdown",
   "metadata": {},
   "source": [
    "### Asyncio is a concurrent programming is have a fucntion such as Concurrency, parallelism, threading, multiprocessing  \n",
    "- Threading in programming is the use of multiple lines (or threads) in the same program at the same time. To work on multiple tasks simultaneously, it can generally be used to perform tasks with waiting I/O (Input/Output) or processing that can be divided into subtasks without waiting for the previous task to finish first.\n",
    "\n",
    "- The use of threading can improve data processing efficiency in some cases. This is because the CPU can be used simultaneously, for example when waiting for I/O such as reading/writing data from a file or connecting to a server. We can send I/O commands to related threads and keep other threads running. This reduces the time the program must wait to run without threads in use while waiting.\n",
    "\n",
    "- But the use of threading has become more complex. This is because one must be careful of the problem of sharing data between threads that can cause problems such as race condition or deadlock, which may cause the program to malfunction or become locked. Careful design and management can be done to reduce the risk of such problems occurring.\n",
    "\n",
    "<img src=\"image-1.png\" alt=\"Asyncio in Python\" width=\"1000\"/>\n"
   ]
  },
  {
   "cell_type": "markdown",
   "metadata": {},
   "source": [
    "### Here’s what you’ll cover:\n",
    "- <span style=\"background-color:yellow;\">Asynchronous IO (asyncio):</span> a language-agnostic paradigm (model) that has implementations across a host of programming languages \n",
    "> - that allows input/output (IO) operations to be performed asynchronously, meaning they can occur independently of the main program flow. <span style=\"color:red;\">In other words,</span> instead of waiting for each IO operation to complete before moving on to the next one, asynchronous IO enables a program to initiate multiple IO operations and continue executing other tasks while waiting for the results.\n",
    "- <span style=\"background-color:yellow;\">async/await:</span>  two new Python keywords that are used to define coroutines\n",
    "> - async: This keyword is used to define a coroutine function. A coroutine function is a special type of function that can be paused and resumed at specific points using the await keyword. When a function is declared with the async keyword, it can contain one or more await expressions, allowing it to suspend its execution while waiting for some asynchronous operation to complete.\n",
    "\n",
    "> - await: This keyword is used inside coroutine functions to pause execution until the result of an asynchronous operation is available. The await keyword can only be used within a coroutine function defined with the async keyword. When an await expression is encountered, the coroutine function suspends its execution until the awaited operation completes, at which point it resumes from where it left off.\n",
    "\n",
    "<img src=\"image-2.png\" alt=\"Asyncio in Python\" width=\"1000\"/>\n",
    "\n",
    "\n",
    "- <span style=\"background-color:yellow;\">asyncio:</span>  the Python package that provides a foundation and API for running and managing coroutines"
   ]
  },
  {
   "cell_type": "markdown",
   "metadata": {},
   "source": [
    "> ### Quiz \n",
    "1. What does the name async IO stand for?\n",
    "- Sol is Asynchronous input/output\n",
    "> Explanation \n",
    ">  - The abbreviation async IO, stands for asynchronous input/output and is a language-agnostic programming paradigm. \n",
    ">  - It’s also the name for the Python asyncio package that provides a foundation and an API for running and managing coroutines in Python.\n",
    "\n",
    "  \n",
    "2. When is async IO a good choice for your program?\n",
    "- Sol is when you have multiple IO-bound tasks dominated by blocking IO-bound wait time.\n",
    "> Explanation \n",
    "> - Async IO is a good choice for your program when you have multiple IO-bound tasks that would otherwise be dominated by blocking IO-bound wait time.\n",
    "> - This could include network IO, serverless designs like a peer-to-peer network with multiple users, or read/write operations where you want a “fire-and-forget” style \n",
    "> - but don’t want to hold a lock on the resource that you’re reading or writing to.\n",
    "\n",
    "3. What’s the main characteristic of asynchronous routines in Python’s async IO?\n",
    "- Sol is They can pause while waiting on their ultimate result and let other routines run in the meantime.\n",
    "> Explanation \n",
    "> - In Python’s async IO, asynchronous routines can pause while waiting on their ultimate result and let other routines run in the meantime.\n",
    "> - This gives a feeling of concurrency despite using a single thread in a single process.\n",
    "\n",
    "4. Fill in the blanks:\n",
    "- Sol is In Python, \n",
    "> the keyword <span style=\"background-color:yellow;\">async</span>  introduces either a native coroutine or an asynchronous generator. \n",
    ">\n",
    "> The keyword <span style=\"background-color:yellow;\">await</span>  passes function control back to the event loop, suspending the execution of the surrounding coroutine.\n",
    "\n",
    "<img src=\"image-4.png\" alt=\"Asyncio in Python\" width=\"1000\"/>"
   ]
  },
  {
   "cell_type": "code",
   "execution_count": null,
   "metadata": {},
   "outputs": [],
   "source": [
    "# Example 1-1\n",
    "import asyncio\n",
    "\n",
    "\n",
    "def write(msg):\n",
    "    print(msg, flush=True) # flush=True is needed to ensure the message is printed immediately\n",
    "\n",
    "async def say1():\n",
    "    await asyncio.sleep(1) # Sleep for 1 second == delay for 1 second\n",
    "    write(\"Hello 1!\")\n",
    "\n",
    "async def say2():\n",
    "    await asyncio.sleep(1) # Sleep for 1 second\n",
    "    write(\"Hello 2!\")\n",
    "\n",
    "write(\"start\") # Print \"start\" \n",
    "loop = asyncio.get_event_loop()  # Get the current event loop\n",
    "loop.run_until_complete(asyncio.gather(say1(),say2())) # Priority say1() before say2() to run\n",
    "write(\"exit\") # Print \"exit\" \n"
   ]
  },
  {
   "cell_type": "markdown",
   "metadata": {},
   "source": [
    "<img src=\"image-5.png\" alt=\"Asyncio in Python\" width=\"800\"/>"
   ]
  },
  {
   "cell_type": "markdown",
   "metadata": {},
   "source": [
    "รูปภาพแสดงตัวอย่างการทำงานของ Event loop ใน Python asyncio\n",
    "ตัวเลข 1 ถึง 10 บนภาพ อธิบายลำดับการทำงานของโค้ด asyncio ดังนี้\n",
    "\n",
    ">1 say 1: ฟังก์ชัน say พิมพ์ข้อความ \"Hello 1!\" ไปยังคอนโซล\n",
    "\n",
    "\n",
    ">2 await: รอให้ say 1 ทำงานเสร็จ\n",
    "\n",
    "\n",
    ">3 Hello 1!: ข้อความ \"Hello 1!\" ปรากฏบนคอนโซล\n",
    "\n",
    "\n",
    "\n",
    ">4 say 2: ฟังก์ชัน say พิมพ์ข้อความ \"Hello 2!\" ไปยังคอนโซล\n",
    "\n",
    "\n",
    ">5 await: รอให้ say 2 ทำงานเสร็จ\n",
    "\n",
    "\n",
    ">6 Hello 2!: ข้อความ \"Hello 2!\" ปรากฏบนคอนโซล\n",
    "\n",
    "\n",
    "\n",
    ">7,8,9,10: ตัวเลขเหล่านี้แสดงลำดับการทำงานของ Event loop วนซ้ำไปเรื่อย ๆ\n",
    "\n",
    "วงกลม: แสดงถึง Event loop ทำงานวนซ้ำ\n",
    "\n",
    "ลูกศร: แสดงทิศทางการทำงานของ Event loop \n",
    "- Event loop เป็นเทคนิคการเขียนโปรแกรมแบบ asynchronous ที่ช่วยให้สามารถทำงานหลายอย่างพร้อมกันได้\n",
    "- Event loop จะตรวจสอบสถานะของฟังก์ชันต่าง ๆ ที่ถูกกำหนดไว้ และรอดำเนินการเมื่อฟังก์ชันนั้นพร้อมทำงาน"
   ]
  },
  {
   "cell_type": "code",
   "execution_count": null,
   "metadata": {},
   "outputs": [],
   "source": [
    "# Example 1-2\n",
    "# vs Synchrous Thread\n",
    "import time\n",
    "\n",
    "def write(msg):\n",
    "    print(msg, flush=True)  # flush=True is needed to ensure the message is printed immediately\n",
    "\n",
    "def say1():\n",
    "    time.sleep(1)\n",
    "    write(\"Hello 1!\")\n",
    "\n",
    "def say2():\n",
    "    time.sleep(1)\n",
    "    write(\"Hello 2!\")\n",
    "\n",
    "if __name__ == \"__main__\":\n",
    "    write(\"start\")\n",
    "    say1()\n",
    "    say2()\n",
    "    write(\"exit\")\n"
   ]
  },
  {
   "cell_type": "markdown",
   "metadata": {},
   "source": [
    "### Parallel execution of asyncio functions\n",
    "> If you will run this, you will see that Hello 1! and Hello 2! appeared at the same time after 1 second, not after 2\n",
    "\n",
    "### Awaiting vs waiting\n",
    ">Asyncio is not multithreading or multiprocessing, but it runs code in parallel🤯\n",
    "\n",
    ">The thing is next: When run_until_complete runs say1 function, the interpreter executes it line by line, and when it sees await, it starts asynchronous operation which later will be finished with some internal callback to loop (such callback >hidden from us, developers).\n",
    "\n",
    ">But now, after the start, it immediately returns control to the event loop. So it starts asynchronous sleep and our loop has control, so the loop is actually ready to start the next function say2. When first async sleep is finished, it makes an >internal callback to loop (hidden from us) and loop resumes execution of say1 coroutine: next operation is printing Hello 1!. After printing it returns again to the event loop. At the same time, from the second sleep, the loop receives an event >about finishing the second sleep (if 2 events will come at the same time they will not be lost, they will be just queued).\n",
    "\n",
    ">So now Hello 2! printed and second method also returned. run_until_complete(gather(l1,l2,l3)) will block until all l1, l2, l3 coroutines will be done.\n",
    "\n",
    ">It can be displayed as next (assume that all red lines are at 0s time point, and all blue at 1s):"
   ]
  },
  {
   "cell_type": "code",
   "execution_count": null,
   "metadata": {},
   "outputs": [],
   "source": [
    "# Example 1-3\n",
    "# multithreading\n",
    "import threading\n",
    "import time\n",
    "\n",
    "def write(msg):\n",
    "    print(msg, flush=True)  # flush=True is needed to ensure the message is printed immediately\n",
    "\n",
    "def say1():\n",
    "    time.sleep(1)\n",
    "    write(\"Hello 1!\")\n",
    "\n",
    "def say2():\n",
    "    time.sleep(1)\n",
    "    write(\"Hello 2!\")\n",
    "\n",
    "if __name__ == \"__main__\":\n",
    "    write(\"start\")\n",
    "    \n",
    "    # Create and start threads for say1 and say2 functions\n",
    "    thread1 = threading.Thread(target=say1)\n",
    "    thread2 = threading.Thread(target=say2)\n",
    "    thread1.start()\n",
    "    thread2.start()\n",
    "    \n",
    "    \n",
    "    # Wait for both threads to finish execution\n",
    "    thread1.join()\n",
    "    thread2.join()\n",
    "\n",
    "    write(\"exit\")\n"
   ]
  },
  {
   "cell_type": "markdown",
   "metadata": {},
   "source": [
    " - ตัวอย่าง asyncio \n",
    "    - กำหนด coroutines แบบอะซิงโครนัสสองตัว `say1()` และ `say2()` จากนั้นรันพร้อมกันโดยใช้ `asyncio.gather()`\n",
    "    - ต่างจากเธรดที่แต่ละฟังก์ชันทำงานในเธรดของตัวเอง asyncio กำหนดเวลา coroutines ร่วมกันภายในลูปเหตุการณ์เดียว\n",
    "\n",
    " - ตัวอย่าง Threading\n",
    "    - สร้างเธรดแยกกันสองเธรด โดยแต่ละเธรดทำงานฟังก์ชันซิงโครนัส `say1()` และ `say2()` พร้อมกัน\n",
    "    - แต่ละเธรดทำงานแยกจากกัน ทำให้ทั้งสองฟังก์ชันสามารถดำเนินการพร้อมกันได้ \n"
   ]
  },
  {
   "cell_type": "markdown",
   "metadata": {},
   "source": [
    "5. What’s one use case for queues in async IO?\n",
    "- To act as a transmitter for producers and consumers that aren’t directly chained or associated with each other\n",
    "\n",
    "\n",
    "- Explanation\n",
    "    - In async IO, one use case for queues is for the queue to act as a transmitter for producers and consumers that aren’t directly chained or associated with each other.\n",
    "\n",
    "    \n",
    "6. Fill in the blanks:\n",
    "\n",
    "This allows producers and consumers to communicate without talking to each other directly.\n",
    "\n",
    "<img src=\"image-6.png\" alt=\"Asyncio in Python\" width=\"800\"/>\n",
    "\n",
    "\n",
    "\n",
    "7. Why should you avoid sending a large number of concurrent requests to a small website when using asynchronous requests in Python?\n",
    "- Sol is It can overload the website.\n",
    "\n",
    "\n",
    "- Explanation \n",
    "    - Sending a large number of concurrent requests to a small website can overload the website.\n",
    "\n",
    "8. What does the gather() function in Python’s asyncio library do?\n",
    "- Sol is It puts a collection of coroutines into a single future.\n",
    "- The gather() function in Python’s asyncio library is used to put a collection of coroutines (futures) into a single future. As a result, it returns a single future object.\n",
    "- If you use await asyncio.gather() and specify multiple tasks or coroutines, then you’re waiting until they’re all complete. The result of gather() will be a list of the results.\n"
   ]
  },
  {
   "cell_type": "markdown",
   "metadata": {},
   "source": [
    "---"
   ]
  },
  {
   "cell_type": "markdown",
   "metadata": {},
   "source": [
    "### For more Comprehension, we added a little bit example inside the notebook"
   ]
  },
  {
   "cell_type": "code",
   "execution_count": 18,
   "metadata": {},
   "outputs": [
    {
     "name": "stdout",
     "output_type": "stream",
     "text": [
      "This is \n",
      "asynchronous programming\n",
      "and not multi-threading\n",
      "Executed in 2.01 seconds.\n",
      "current time =  34563.6762783 s\n",
      "start time =  34561.6661195 s\n"
     ]
    }
   ],
   "source": [
    "# Example 1-4\n",
    "import asyncio\n",
    "import time\n",
    "\n",
    "async def fn():\n",
    "    print('This is ')\n",
    "    await asyncio.sleep(1)\n",
    "    print('asynchronous programming')\n",
    "    await asyncio.sleep(1)\n",
    "    print('and not multi-threading')\n",
    "\n",
    "async def main():\n",
    "    start_time = time.perf_counter() # Get the current time perf_counter() is used to get the highest resolution time\n",
    "    await fn() # This will take 2 seconds to execute\n",
    "    elapsed_time = time.perf_counter() - start_time # Calculate the elapsed time\n",
    "    print(f\"Executed in {elapsed_time:0.2f} seconds.\")\n",
    "    print(\"current time = \", time.perf_counter(), \"s\")\n",
    "    print(\"start time = \", start_time, \"s\")\n",
    "\n",
    "# Check if there's already an event loop running\n",
    "if asyncio.get_event_loop().is_running():\n",
    "    # If there's already a running event loop, create a task instead of using asyncio.run()\n",
    "    asyncio.create_task(main())\n",
    "    \n",
    "# async def main() => first\n",
    "# async def fn() => second\n",
    "\n",
    "else:\n",
    "    # If there's no event loop running, use asyncio.run()\n",
    "    asyncio.run(main())\n"
   ]
  },
  {
   "cell_type": "markdown",
   "metadata": {},
   "source": [
    "### Async Event Loop in Python"
   ]
  },
  {
   "cell_type": "code",
   "execution_count": 19,
   "metadata": {},
   "outputs": [
    {
     "name": "stdout",
     "output_type": "stream",
     "text": [
      "one\n",
      "two\n",
      "three\n",
      "four\n",
      "five\n"
     ]
    }
   ],
   "source": [
    "# Example 1-5\n",
    "import asyncio\n",
    "\n",
    "async def fn():\n",
    "\t\n",
    "\tprint(\"one\") # first\n",
    "\tawait asyncio.sleep(1) \n",
    "\tawait fn2() \n",
    "\tprint('four') # fourth\n",
    "\tawait asyncio.sleep(1)\n",
    "\tprint('five') # fifth\n",
    "\tawait asyncio.sleep(1)\n",
    "\n",
    "async def fn2(): # 2\n",
    "\tprint(\"two\") # second\n",
    "\tawait asyncio.sleep(1)\n",
    "\tprint(\"three\") # third\n",
    "\tawait asyncio.sleep(1)\n",
    " \n",
    " \t\n",
    "\n",
    "# Check if there's already an event loop running\n",
    "if asyncio.get_event_loop().is_running():\n",
    "    # If there's already a running event loop, create a task instead of using asyncio.run()\n",
    "    asyncio.create_task(fn())\n",
    "else:\n",
    "    # If there's no event loop running, use asyncio.run()\n",
    "    asyncio.run(main())\n"
   ]
  },
  {
   "cell_type": "markdown",
   "metadata": {},
   "source": [
    "### I/O-bound tasks using asyncio.sleep()"
   ]
  },
  {
   "cell_type": "code",
   "execution_count": 20,
   "metadata": {},
   "outputs": [
    {
     "name": "stdout",
     "output_type": "stream",
     "text": [
      "Function 1 started..\n",
      "Function 2 started..\n",
      "Function 3 started..\n",
      "Function 3 Ended\n",
      "Function 1 Ended\n",
      "Function 2 Ended\n",
      "Main Ended..\n"
     ]
    }
   ],
   "source": [
    "import asyncio\n",
    "\n",
    "\n",
    "async def func1():\n",
    "\tprint(\"Function 1 started..\")\n",
    "\tawait asyncio.sleep(2)\n",
    "\tprint(\"Function 1 Ended\")\n",
    "\n",
    "\n",
    "async def func2():\n",
    "\tprint(\"Function 2 started..\")\n",
    "\tawait asyncio.sleep(3)\n",
    "\tprint(\"Function 2 Ended\")\n",
    "\n",
    "\n",
    "async def func3():\n",
    "\tprint(\"Function 3 started..\")\n",
    "\tawait asyncio.sleep(1)\n",
    "\tprint(\"Function 3 Ended\")\n",
    "\n",
    "\n",
    "async def main():\n",
    "\tawait asyncio.gather(func1(), func2(), func3())\n",
    "\tprint(\"Main Ended..\")\n",
    "\n",
    "\n",
    "# Check if there's already an event loop running\n",
    "if asyncio.get_event_loop().is_running():\n",
    "    # If there's already a running event loop, create a task instead of using asyncio.run()\n",
    "    asyncio.create_task(main())\n",
    "else:\n",
    "    # If there's no event loop running, use asyncio.run()\n",
    "    asyncio.run(main())\n"
   ]
  }
 ],
 "metadata": {
  "kernelspec": {
   "display_name": "Python 3",
   "language": "python",
   "name": "python3"
  },
  "language_info": {
   "codemirror_mode": {
    "name": "ipython",
    "version": 3
   },
   "file_extension": ".py",
   "mimetype": "text/x-python",
   "name": "python",
   "nbconvert_exporter": "python",
   "pygments_lexer": "ipython3",
   "version": "3.12.1"
  }
 },
 "nbformat": 4,
 "nbformat_minor": 2
}
